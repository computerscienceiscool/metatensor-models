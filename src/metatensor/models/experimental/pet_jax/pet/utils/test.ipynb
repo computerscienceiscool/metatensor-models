{
 "cells": [
  {
   "cell_type": "code",
   "execution_count": 29,
   "metadata": {},
   "outputs": [],
   "source": [
    "import numpy as np\n",
    "import jax\n",
    "import jax.numpy as jnp\n",
    "import functools as ft"
   ]
  },
  {
   "cell_type": "code",
   "execution_count": 30,
   "metadata": {},
   "outputs": [
    {
     "name": "stdout",
     "output_type": "stream",
     "text": [
      "[[0 1]\n",
      " [0 1]\n",
      " [0 1]\n",
      " ...\n",
      " [1 0]\n",
      " [1 0]\n",
      " [1 0]]\n"
     ]
    }
   ],
   "source": [
    "# arr = jnp.array([\n",
    "#     [0, 1],\n",
    "#     [2, 3],\n",
    "#     [4, 5],\n",
    "#     [3, 2],\n",
    "#     [5, 4],\n",
    "#     [1, 0],\n",
    "# ])\n",
    "\n",
    "# arr_inversed = arr[:, ::-1]\n",
    "# print(arr_inversed)\n",
    "\n",
    "arr = jnp.array([[0, 1]] * 30000 + [[1, 0]] * 30000)\n",
    "print(arr)"
   ]
  },
  {
   "cell_type": "code",
   "execution_count": 31,
   "metadata": {},
   "outputs": [],
   "source": [
    "def loop_body(i, carry):\n",
    "    array, array_inversed, inverse_indices = carry\n",
    "    inverse_indices = inverse_indices.at[i].set(jnp.nonzero(array_inversed == array[i], size=1)[0][0])\n",
    "    return array, array_inversed, inverse_indices\n",
    "\n",
    "@ft.partial(jax.jit, static_argnums=(1,))\n",
    "def get_first_occurrences(array, n_edges: int):\n",
    "    array_inversed = array[:, ::-1]\n",
    "    return jax.lax.fori_loop(\n",
    "        0, n_edges, loop_body, (array, array_inversed, jnp.empty((n_edges,), dtype=jnp.int32))\n",
    "    )[2]"
   ]
  },
  {
   "cell_type": "code",
   "execution_count": 37,
   "metadata": {},
   "outputs": [],
   "source": [
    "get_first_occurrences(arr, 6)\n",
    "import time"
   ]
  },
  {
   "cell_type": "code",
   "execution_count": 47,
   "metadata": {},
   "outputs": [
    {
     "name": "stdout",
     "output_type": "stream",
     "text": [
      "0.0002740433692932129\n"
     ]
    }
   ],
   "source": [
    "start = time.time()\n",
    "for i in range(10000):\n",
    "    _ = get_first_occurrences(arr, 6)\n",
    "print((time.time() - start)/10000)"
   ]
  },
  {
   "cell_type": "code",
   "execution_count": null,
   "metadata": {},
   "outputs": [],
   "source": []
  }
 ],
 "metadata": {
  "kernelspec": {
   "display_name": "jax",
   "language": "python",
   "name": "python3"
  },
  "language_info": {
   "codemirror_mode": {
    "name": "ipython",
    "version": 3
   },
   "file_extension": ".py",
   "mimetype": "text/x-python",
   "name": "python",
   "nbconvert_exporter": "python",
   "pygments_lexer": "ipython3",
   "version": "3.11.7"
  }
 },
 "nbformat": 4,
 "nbformat_minor": 2
}

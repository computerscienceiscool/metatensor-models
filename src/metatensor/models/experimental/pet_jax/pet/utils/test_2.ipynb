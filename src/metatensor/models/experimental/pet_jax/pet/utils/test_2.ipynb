{
 "cells": [
  {
   "cell_type": "code",
   "execution_count": 57,
   "metadata": {},
   "outputs": [],
   "source": [
    "import jax\n",
    "import jax.numpy as jnp\n",
    "import functools as ft\n",
    "\n",
    "def loop_body(i, carry):\n",
    "    centers, edges_to_nef, nef_to_edges_neighbor, nef_mask, node_counter = carry\n",
    "    center = centers[i]\n",
    "    edges_to_nef = edges_to_nef.at[center, node_counter[center]].set(i)\n",
    "    nef_mask = nef_mask.at[center, node_counter[center]].set(True)\n",
    "    nef_to_edges_neighbor = nef_to_edges_neighbor.at[i].set(node_counter[center])\n",
    "    node_counter = node_counter.at[center].add(1)\n",
    "    return centers, edges_to_nef, nef_to_edges_neighbor, nef_mask, node_counter\n",
    "\n",
    "@ft.partial(jax.jit, static_argnums=(1, 2))\n",
    "def get_nef_indices(centers, n_nodes: int, n_edges_per_node: int):\n",
    "    int_dtype = jnp.int64 if jax.config.jax_enable_x64 else jnp.int32\n",
    "    n_edges = len(centers)\n",
    "    edges_to_nef = jnp.zeros((n_nodes, n_edges_per_node), dtype=int_dtype)\n",
    "    nef_to_edges_neighbor = jnp.empty((n_edges,), dtype=int_dtype)\n",
    "    node_counter = jnp.zeros((n_nodes,), dtype=int_dtype)\n",
    "    nef_mask = jnp.full((n_nodes, n_edges_per_node), False, dtype=bool)\n",
    "    return jax.lax.fori_loop(\n",
    "        0, n_edges, loop_body, (centers, edges_to_nef, nef_to_edges_neighbor, nef_mask, node_counter)\n",
    "    )[1:4]"
   ]
  },
  {
   "cell_type": "code",
   "execution_count": 58,
   "metadata": {},
   "outputs": [],
   "source": [
    "centers = jnp.array([0, 4, 3, 1, 0, 0, 3, 3, 3, 4])\n",
    "nef_indices, nef_to_edges_neighbor, nef_mask = get_nef_indices(centers, 5, 3)"
   ]
  },
  {
   "cell_type": "code",
   "execution_count": 59,
   "metadata": {},
   "outputs": [],
   "source": [
    "def edge_array_to_nef(edge_array, nef_indices, mask=None, fill_value=0.0):\n",
    "    if mask is None:\n",
    "        return edge_array[nef_indices]\n",
    "    else:\n",
    "        return jnp.where(mask, edge_array[nef_indices], fill_value)\n",
    "\n",
    "def nef_array_to_edges(nef_array, centers, nef_to_edges_neighbor):\n",
    "    return nef_array[centers, nef_to_edges_neighbor]"
   ]
  },
  {
   "cell_type": "code",
   "execution_count": 60,
   "metadata": {},
   "outputs": [
    {
     "data": {
      "text/plain": [
       "Array([[0, 0, 0],\n",
       "       [1, 0, 0],\n",
       "       [0, 0, 0],\n",
       "       [3, 3, 3],\n",
       "       [4, 4, 0]], dtype=int32)"
      ]
     },
     "execution_count": 60,
     "metadata": {},
     "output_type": "execute_result"
    }
   ],
   "source": [
    "nef_centers = edge_array_to_nef(centers, nef_indices)\n",
    "nef_centers"
   ]
  },
  {
   "cell_type": "code",
   "execution_count": 61,
   "metadata": {},
   "outputs": [
    {
     "data": {
      "text/plain": [
       "Array([0, 4, 3, 1, 0, 0, 3, 3, 3, 4], dtype=int32)"
      ]
     },
     "execution_count": 61,
     "metadata": {},
     "output_type": "execute_result"
    }
   ],
   "source": [
    "nef_array_to_edges(nef_centers, centers, nef_to_edges_neighbor)"
   ]
  }
 ],
 "metadata": {
  "kernelspec": {
   "display_name": "jax",
   "language": "python",
   "name": "python3"
  },
  "language_info": {
   "codemirror_mode": {
    "name": "ipython",
    "version": 3
   },
   "file_extension": ".py",
   "mimetype": "text/x-python",
   "name": "python",
   "nbconvert_exporter": "python",
   "pygments_lexer": "ipython3",
   "version": "3.11.7"
  }
 },
 "nbformat": 4,
 "nbformat_minor": 2
}
